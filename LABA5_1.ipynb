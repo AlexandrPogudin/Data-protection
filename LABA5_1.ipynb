{
 "cells": [
  {
   "cell_type": "code",
   "execution_count": 2,
   "metadata": {},
   "outputs": [],
   "source": [
    "import matplotlib.pyplot as plt"
   ]
  },
  {
   "cell_type": "code",
   "execution_count": 3,
   "metadata": {},
   "outputs": [],
   "source": [
    "w = list(map(int, list(input(\"Введите начальное значение сдвигового регистра: \")))) # [0,0,0,1]\n",
    "p = list(map(int, input(\"Введите образующий многочлен: \").split())) # [4, 3]\n",
    "bit = p[0]\n",
    "\n",
    "l = []"
   ]
  },
  {
   "cell_type": "code",
   "execution_count": 4,
   "metadata": {},
   "outputs": [],
   "source": [
    "while not(w in l):\n",
    "    l.append(w.copy())\n",
    "    feedback = w[-1]\n",
    "    for j in range(bit-1, 0, -1):\n",
    "        if bit-j in p[1:]:\n",
    "            w[j] = int(feedback != w[j-1])\n",
    "        else:\n",
    "            w[j] = w[j-1]\n",
    "    w[0] = feedback"
   ]
  },
  {
   "cell_type": "code",
   "execution_count": 9,
   "metadata": {},
   "outputs": [
    {
     "name": "stdout",
     "output_type": "stream",
     "text": [
      "[0, 0, 0, 1] 1\n",
      "[1, 1, 0, 0] 0\n",
      "[0, 1, 1, 0] 0\n",
      "[0, 0, 1, 1] 1\n",
      "[1, 1, 0, 1] 1\n",
      "[1, 0, 1, 0] 0\n",
      "[0, 1, 0, 1] 1\n",
      "[1, 1, 1, 0] 0\n",
      "[0, 1, 1, 1] 1\n",
      "[1, 1, 1, 1] 1\n",
      "[1, 0, 1, 1] 1\n",
      "[1, 0, 0, 1] 1\n",
      "[1, 0, 0, 0] 0\n",
      "[0, 1, 0, 0] 0\n",
      "[0, 0, 1, 0] 0\n",
      "1, 0, 0, 1, 1, 0, 1, 0, 1, 1, 1, 1, 0, 0, 0\n"
     ]
    }
   ],
   "source": [
    "for value in l:\n",
    "    print(value, value[-1])\n",
    "\n",
    "s = \"\"\n",
    "for bit in l:\n",
    "    s += str(bit[-1]) + \", \"\n",
    "\n",
    "print(s[:-2])"
   ]
  },
  {
   "cell_type": "code",
   "execution_count": 6,
   "metadata": {},
   "outputs": [
    {
     "data": {
      "text/plain": [
       "([<matplotlib.axis.YTick at 0x209f1df4ca0>,\n",
       "  <matplotlib.axis.YTick at 0x209f1df4640>],\n",
       " [Text(0, 0, '0'), Text(0, 1, '1')])"
      ]
     },
     "execution_count": 6,
     "metadata": {},
     "output_type": "execute_result"
    },
    {
     "data": {
      "image/png": "[encoded data removed]",
      "text/plain": [
       "<Figure size 640x480 with 1 Axes>"
      ]
     },
     "metadata": {},
     "output_type": "display_data"
    }
   ],
   "source": [
    "plt.bar(list(range(len(l))), [i[-1] for i in l], width = 0.50)\n",
    "plt.xticks(list(range(len(l))))\n",
    "plt.yticks([0, 1])"
   ]
  }
 ],
 "metadata": {
  "kernelspec": {
   "display_name": "Python 3",
   "language": "python",
   "name": "python3"
  },
  "language_info": {
   "codemirror_mode": {
    "name": "ipython",
    "version": 3
   },
   "file_extension": ".py",
   "mimetype": "text/x-python",
   "name": "python",
   "nbconvert_exporter": "python",
   "pygments_lexer": "ipython3",
   "version": "3.10.5"
  },
  "orig_nbformat": 4
 },
 "nbformat": 4,
 "nbformat_minor": 2
}
