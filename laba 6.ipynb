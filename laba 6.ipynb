{
 "cells": [
  {
   "cell_type": "code",
   "execution_count": 42,
   "metadata": {},
   "outputs": [],
   "source": [
    "import matplotlib.pyplot as plt\n",
    "\n",
    "class Point:\n",
    "    def __init__(self, x, y, a, b, p):\n",
    "        self.x = x\n",
    "        self.y = y\n",
    "        self.a = a\n",
    "        self.b = b\n",
    "        self.p = p\n",
    "\n",
    "        if self.x != None and self.y != None:\n",
    "            if not ((self.y ** 2) % self.p == (self.x ** 3 + self.a * self.x + self.b) % self.p):\n",
    "                raise ValueError(\"Точка не находится на кривой\")\n",
    "        \n",
    "\n",
    "    def __add__(self, other):\n",
    "        # Если мы складываем точку с самой собой, то удваиваем ее, используя метод double()\n",
    "        if self.x == other.x and self.y == other.y:\n",
    "            return self.double()\n",
    "\n",
    "        # Если x-координаты двух точек равны, то результатом\n",
    "        # сложения является точка (None, None)\n",
    "        if self.x == other.x:\n",
    "            return Point(None, None, self.a, self.b, self.p)\n",
    "\n",
    "        # Вычисляем коэффициенты x и y\n",
    "        s = (other.y - self.y) * pow(other.x - self.x, -1, self.p)\n",
    "        x = (s ** 2 - self.x - other.x) % self.p\n",
    "        y = (s * (self.x - x) - self.y) % self.p\n",
    "\n",
    "        return Point(x, y, self.a, self.b, self.p)\n",
    "\n",
    "    def double(self):\n",
    "        # Вычисляем коэффициенты x и y\n",
    "        s = (3 * self.x ** 2 + self.a) * pow(2 * self.y, -1, self.p)\n",
    "        x = (s ** 2 - 2 * self.x) % self.p\n",
    "        y = (s * (self.x - x) - self.y) % self.p\n",
    "\n",
    "        return Point(x, y, self.a, self.b, self.p)\n",
    "\n",
    "# Функция для нахождения точек, которые принадлежат кривой\n",
    "get_points_on_curve = lambda a, b, p: [Point(x, y, a, b, p) for x in range(p) for y in range(p) if (y ** 2) % p == (x ** 3 + a * x + b) % p]\n"
   ]
  },
  {
   "cell_type": "code",
   "execution_count": 43,
   "metadata": {},
   "outputs": [
    {
     "name": "stdout",
     "output_type": "stream",
     "text": [
      "(0, 1)\n",
      "(0, 4)\n",
      "(1, 2)\n",
      "(1, 3)\n",
      "(3, 2)\n",
      "(3, 3)\n"
     ]
    },
    {
     "data": {
      "image/png": "[encoded data removed]",
      "text/plain": [
       "<Figure size 640x480 with 1 Axes>"
      ]
     },
     "metadata": {},
     "output_type": "display_data"
    }
   ],
   "source": [
    "def display(points, fig, ax):\n",
    "    # Область для отображения точек\n",
    "    ax.set_xlim([-0.3, p])\n",
    "    ax.set_ylim([-0.3, p])\n",
    "    plt.grid(color = 'black', linewidth = 0.5)\n",
    "    for point in points:\n",
    "        ax.scatter(point.x, point.y, color = \"k\")\n",
    "\n",
    "p = int(input(\"Введите p = \")) # 5\n",
    "a = int(input(\"Введите a = \")) # 2\n",
    "b = int(input(\"Введите b = \")) # 1\n",
    "\n",
    "points = get_points_on_curve(a, b, p)\n",
    "\n",
    "for point in points:\n",
    "    print(f\"({point.x}, {point.y})\")\n",
    "\n",
    "fig, ax = plt.subplots(1)\n",
    "display(points, fig, ax)"
   ]
  },
  {
   "cell_type": "code",
   "execution_count": 48,
   "metadata": {},
   "outputs": [
    {
     "name": "stdout",
     "output_type": "stream",
     "text": [
      "Сложение точек\n",
      "Сумма двух точек (0, 1) и (3, 3): (3, 2)\n"
     ]
    },
    {
     "data": {
      "image/png": "[encoded data removed]",
      "text/plain": [
       "<Figure size 640x480 with 1 Axes>"
      ]
     },
     "metadata": {},
     "output_type": "display_data"
    }
   ],
   "source": [
    "fig, ax = plt.subplots(1)\n",
    "display(points, fig, ax)\n",
    "\n",
    "# Точки для сложения\n",
    "print(\"Сложение точек\")\n",
    "point1 = Point(int(input(\"Введите x1 = \")), int(input(\"Введите y1 = \")), a, b, p)\n",
    "point2 = Point(int(input(\"Введите x2 = \")), int(input(\"Введите y2 = \")), a, b, p)\n",
    "\n",
    "# Сумма точек\n",
    "sum_point = point1 + point2\n",
    "print(f\"Сумма двух точек ({point1.x}, {point1.y}) и ({point2.x}, {point2.y}): ({sum_point.x}, {sum_point.y})\")\n",
    "ax.scatter(sum_point.x, sum_point.y, color = \"r\")\n",
    "if sum_point.x == None:\n",
    "    print(\"Бесконечно удаленная точка\")"
   ]
  },
  {
   "cell_type": "code",
   "execution_count": 50,
   "metadata": {},
   "outputs": [
    {
     "name": "stdout",
     "output_type": "stream",
     "text": [
      "Удвоение точки\n",
      "Удвоение точки (3, 3): (0, 4)\n"
     ]
    },
    {
     "data": {
      "text/plain": [
       "<matplotlib.collections.PathCollection at 0x1bebcd6b0a0>"
      ]
     },
     "execution_count": 50,
     "metadata": {},
     "output_type": "execute_result"
    },
    {
     "data": {
      "image/png": "[encoded data removed]",
      "text/plain": [
       "<Figure size 640x480 with 1 Axes>"
      ]
     },
     "metadata": {},
     "output_type": "display_data"
    }
   ],
   "source": [
    "fig, ax = plt.subplots(1)\n",
    "display(points, fig, ax)\n",
    "\n",
    "# Точка для удвоения\n",
    "print(\"Удвоение точки\")\n",
    "point3 = Point(int(input(\"Введите x = \")), int(input(\"Введите y = \")), a, b, p)\n",
    "\n",
    "# Находим удвоение точки\n",
    "double_point = point3.double()\n",
    "print(f\"Удвоение точки ({point3.x}, {point3.y}): ({double_point.x}, {double_point.y})\")\n",
    "ax.scatter(double_point.x, double_point.y, color = \"r\")"
   ]
  }
 ],
 "metadata": {
  "kernelspec": {
   "display_name": "Python 3",
   "language": "python",
   "name": "python3"
  },
  "language_info": {
   "codemirror_mode": {
    "name": "ipython",
    "version": 3
   },
   "file_extension": ".py",
   "mimetype": "text/x-python",
   "name": "python",
   "nbconvert_exporter": "python",
   "pygments_lexer": "ipython3",
   "version": "3.10.5"
  },
  "orig_nbformat": 4
 },
 "nbformat": 4,
 "nbformat_minor": 2
}
